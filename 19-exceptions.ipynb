{
 "cells": [
  {
   "cell_type": "code",
   "execution_count": 2,
   "metadata": {},
   "outputs": [
    {
     "name": "stdin",
     "output_type": "stream",
     "text": [
      "Number:  a\n"
     ]
    },
    {
     "name": "stdout",
     "output_type": "stream",
     "text": [
      "TypeError\n"
     ]
    }
   ],
   "source": [
    "try:\n",
    "    a = input('Number: ')\n",
    "    10/a\n",
    "except Exception as e:\n",
    "    print(type(e).__name__)"
   ]
  },
  {
   "cell_type": "code",
   "execution_count": 3,
   "metadata": {},
   "outputs": [
    {
     "name": "stdin",
     "output_type": "stream",
     "text": [
      "Number:  a\n"
     ]
    },
    {
     "name": "stdout",
     "output_type": "stream",
     "text": [
      "It isn't a numeric value:  a\n"
     ]
    }
   ],
   "source": [
    "try:\n",
    "    a = float(input('Number: '))\n",
    "    10/a\n",
    "except TypeError:\n",
    "    print('It isn\\'t correct type: ', type(a))\n",
    "except ValueError:\n",
    "    print('It isn\\'t a numeric value: ', a)\n",
    "except ZeroDivisionError:\n",
    "    print('Can\\'t divide by zero')\n",
    "except Exception as e:\n",
    "    print(type(e).__name__)"
   ]
  },
  {
   "cell_type": "code",
   "execution_count": 4,
   "metadata": {},
   "outputs": [
    {
     "name": "stdout",
     "output_type": "stream",
     "text": [
      "Error catched: You must send some value\n"
     ]
    }
   ],
   "source": [
    " def invoke(arg = None):\n",
    "    try:\n",
    "        if arg is None: raise ValueError('You must send some value')\n",
    "    except ValueError as error:\n",
    "        print('Error catched: {}'.format(error))\n",
    "\n",
    "invoke()"
   ]
  },
  {
   "cell_type": "code",
   "execution_count": null,
   "metadata": {},
   "outputs": [],
   "source": []
  }
 ],
 "metadata": {
  "kernelspec": {
   "display_name": "Python 3",
   "language": "python",
   "name": "python3"
  },
  "language_info": {
   "codemirror_mode": {
    "name": "ipython",
    "version": 3
   },
   "file_extension": ".py",
   "mimetype": "text/x-python",
   "name": "python",
   "nbconvert_exporter": "python",
   "pygments_lexer": "ipython3",
   "version": "3.8.5"
  }
 },
 "nbformat": 4,
 "nbformat_minor": 4
}
