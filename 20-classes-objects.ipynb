{
 "cells": [
  {
   "cell_type": "code",
   "execution_count": null,
   "metadata": {},
   "outputs": [],
   "source": [
    "class SomeClass:\n",
    "    pass\n",
    "\n",
    "object = SomeClass()\n",
    "type(object)"
   ]
  },
  {
   "cell_type": "code",
   "execution_count": null,
   "metadata": {},
   "outputs": [],
   "source": [
    "object.name = 'Angel'\n",
    "object.technologies = ['Python', 'Ruby']"
   ]
  },
  {
   "cell_type": "code",
   "execution_count": null,
   "metadata": {},
   "outputs": [],
   "source": [
    "print(object.name, object.technologies)"
   ]
  },
  {
   "cell_type": "code",
   "execution_count": null,
   "metadata": {},
   "outputs": [],
   "source": [
    "class OtherClass:\n",
    "    attr_a = False\n",
    "\n",
    "c = OtherClass()\n",
    "c.attr_a"
   ]
  },
  {
   "cell_type": "code",
   "execution_count": null,
   "metadata": {},
   "outputs": [],
   "source": [
    "class Car:\n",
    "    color = 'Red'\n",
    "    \n",
    "    def __init__(self):\n",
    "        print('New Car created')\n",
    "    \n",
    "    def paint_to_blue(self):\n",
    "        self.color = 'blue'"
   ]
  },
  {
   "cell_type": "code",
   "execution_count": null,
   "metadata": {},
   "outputs": [],
   "source": [
    "car = Car()\n",
    "car.color"
   ]
  },
  {
   "cell_type": "code",
   "execution_count": null,
   "metadata": {},
   "outputs": [],
   "source": [
    "car.paint_to_blue()\n",
    "car.color"
   ]
  },
  {
   "cell_type": "code",
   "execution_count": null,
   "metadata": {},
   "outputs": [],
   "source": [
    "class Person:\n",
    "    name = 'n/n'\n",
    "    \n",
    "    def __init__(self, color, tech):\n",
    "        self.color = color\n",
    "        self.tech = tech\n",
    "        print('New Person: [name: {}, color: {}, tech: {} ]'.format(self.name, color, tech))\n",
    "    \n",
    "    def paint_to_blue(self):\n",
    "        self.color = 'blue'\n",
    "\n",
    "person = Person('green', 'Python')"
   ]
  },
  {
   "cell_type": "code",
   "execution_count": null,
   "metadata": {},
   "outputs": [],
   "source": [
    "class Factory:\n",
    "    def __init__(self, time, name, color):\n",
    "        self.time = time\n",
    "        self.name = name\n",
    "        self.color = color\n",
    "        print('New factory', self.time, self.name, self.color)\n",
    "        \n",
    "    def __del__(self):\n",
    "        print('Deleted factory:', self.name)\n",
    "    \n",
    "    def __str__(self):\n",
    "        return ('[time: {}, name: {}, color: {}]'.format(self.time, self.name, self.color))\n",
    "    \n",
    "    def __len__(self):\n",
    "        return self.time\n",
    "\n",
    "        \n",
    "factory = Factory(10, 'Python', 'Green')"
   ]
  },
  {
   "cell_type": "code",
   "execution_count": 10,
   "metadata": {},
   "outputs": [],
   "source": [
    "str(factory)"
   ]
  },
  {
   "cell_type": "code",
   "execution_count": 11,
   "metadata": {},
   "outputs": [
    {
     "data": {
      "text/plain": [
       "10"
      ]
     },
     "execution_count": 11,
     "metadata": {},
     "output_type": "execute_result"
    }
   ],
   "source": [
    "len(factory)"
   ]
  },
  {
   "cell_type": "code",
   "execution_count": 12,
   "metadata": {
    "jupyter": {
     "source_hidden": true
    }
   },
   "outputs": [],
   "source": [
    "class Foo:\n",
    "    __private_attr = 'private Attribute'\n",
    "    \n",
    "    def __private_method(self):\n",
    "        print('private Method')\n",
    "        \n",
    "    def public_attr(self):\n",
    "        return self.__private_attr\n",
    "    \n",
    "    def public_method(self):\n",
    "        return self.__private_method()\n",
    "\n",
    "f = Foo()"
   ]
  },
  {
   "cell_type": "code",
   "execution_count": 13,
   "metadata": {},
   "outputs": [
    {
     "name": "stdout",
     "output_type": "stream",
     "text": [
      "private Method\n"
     ]
    }
   ],
   "source": [
    "f.public_method()"
   ]
  },
  {
   "cell_type": "code",
   "execution_count": 14,
   "metadata": {},
   "outputs": [
    {
     "data": {
      "text/plain": [
       "'private Attribute'"
      ]
     },
     "execution_count": 14,
     "metadata": {},
     "output_type": "execute_result"
    }
   ],
   "source": [
    "f.public_attr()"
   ]
  },
  {
   "cell_type": "code",
   "execution_count": 15,
   "metadata": {},
   "outputs": [
    {
     "ename": "AttributeError",
     "evalue": "'Foo' object has no attribute '__private_method'",
     "output_type": "error",
     "traceback": [
      "\u001b[0;31m---------------------------------------------------------------------------\u001b[0m",
      "\u001b[0;31mAttributeError\u001b[0m                            Traceback (most recent call last)",
      "\u001b[0;32m<ipython-input-15-de2a1f00df01>\u001b[0m in \u001b[0;36m<module>\u001b[0;34m\u001b[0m\n\u001b[0;32m----> 1\u001b[0;31m \u001b[0mf\u001b[0m\u001b[0;34m.\u001b[0m\u001b[0m__private_method\u001b[0m\u001b[0;34m(\u001b[0m\u001b[0;34m)\u001b[0m\u001b[0;34m\u001b[0m\u001b[0;34m\u001b[0m\u001b[0m\n\u001b[0m",
      "\u001b[0;31mAttributeError\u001b[0m: 'Foo' object has no attribute '__private_method'"
     ]
    }
   ],
   "source": [
    "f.__private_method()"
   ]
  },
  {
   "cell_type": "code",
   "execution_count": null,
   "metadata": {},
   "outputs": [],
   "source": []
  }
 ],
 "metadata": {
  "kernelspec": {
   "display_name": "Python 3",
   "language": "python",
   "name": "python3"
  },
  "language_info": {
   "codemirror_mode": {
    "name": "ipython",
    "version": 3
   },
   "file_extension": ".py",
   "mimetype": "text/x-python",
   "name": "python",
   "nbconvert_exporter": "python",
   "pygments_lexer": "ipython3",
   "version": "3.8.5"
  }
 },
 "nbformat": 4,
 "nbformat_minor": 4
}
